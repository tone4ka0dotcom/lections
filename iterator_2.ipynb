{
 "cells": [
  {
   "cell_type": "code",
   "execution_count": 3,
   "metadata": {},
   "outputs": [
    {
     "name": "stdout",
     "output_type": "stream",
     "text": [
      "[0, 1, 2]\n",
      "[1.0, 1.5, 2.0, 2.5]\n"
     ]
    }
   ],
   "source": [
    "class ArithProgress:\n",
    "    def __init__(self, a, step, b):\n",
    "        self.first = a-step\n",
    "        self.step = step\n",
    "        self.last = b\n",
    "        \n",
    "    def __iter__(self):\n",
    "        return self\n",
    "    \n",
    "    def __next__(self):\n",
    "        if self.first + self.step >= self.last:\n",
    "            raise StopIteration\n",
    "        self.first += self.step   \n",
    "        return self.first\n",
    "\n",
    "ap1 = ArithProgress(0, 1, 3)\n",
    "print(list(ap1))\n",
    "\n",
    "ap2 = ArithProgress(1, .5, 3)\n",
    "print(list(ap2))"
   ]
  }
 ],
 "metadata": {
  "kernelspec": {
   "display_name": "Python 3",
   "language": "python",
   "name": "python3"
  },
  "language_info": {
   "codemirror_mode": {
    "name": "ipython",
    "version": 3
   },
   "file_extension": ".py",
   "mimetype": "text/x-python",
   "name": "python",
   "nbconvert_exporter": "python",
   "pygments_lexer": "ipython3",
   "version": "3.8.5"
  }
 },
 "nbformat": 4,
 "nbformat_minor": 4
}
