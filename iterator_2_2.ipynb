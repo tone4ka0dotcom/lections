{
 "cells": [
  {
   "cell_type": "code",
   "execution_count": 2,
   "metadata": {},
   "outputs": [
    {
     "name": "stdout",
     "output_type": "stream",
     "text": [
      "['a', 'b', 'c', 'a', 'b']\n"
     ]
    }
   ],
   "source": [
    "class my_circle:\n",
    "    def __init__(self, arr, n):\n",
    "        self.arr = arr\n",
    "        self.n = n\n",
    "    \n",
    "    def __iter__(self):\n",
    "        return my_circle_iter(self.arr, self.n)\n",
    "    \n",
    "class my_circle_iter:\n",
    "    def __init__(self, arr, n):\n",
    "        self.arr = arr\n",
    "        self.n = n\n",
    "        self.index = -1\n",
    "        \n",
    "    def __iter__(self):\n",
    "        return self\n",
    "    \n",
    "    def __next__(self):\n",
    "        if self.index>=self.n - 1:\n",
    "            raise StopIteration()\n",
    "        self.index += 1\n",
    "        return self.arr[self.index % len(self.arr)]\n",
    "            \n",
    "            \n",
    "c = my_circle('abc', 5)\n",
    "print(list(c))"
   ]
  }
 ],
 "metadata": {
  "kernelspec": {
   "display_name": "Python 3",
   "language": "python",
   "name": "python3"
  },
  "language_info": {
   "codemirror_mode": {
    "name": "ipython",
    "version": 3
   },
   "file_extension": ".py",
   "mimetype": "text/x-python",
   "name": "python",
   "nbconvert_exporter": "python",
   "pygments_lexer": "ipython3",
   "version": "3.8.5"
  }
 },
 "nbformat": 4,
 "nbformat_minor": 4
}
