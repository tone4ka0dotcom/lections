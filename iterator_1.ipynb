{
 "cells": [
  {
   "cell_type": "code",
   "execution_count": 15,
   "metadata": {},
   "outputs": [
    {
     "name": "stdout",
     "output_type": "stream",
     "text": [
      "True\n"
     ]
    }
   ],
   "source": [
    "class CompressedList(list):\n",
    "    def __iter__(self):\n",
    "        return CompressedListIterator(self)\n",
    "    \n",
    "class CompressedListIterator:\n",
    "    def __init__(self,arr):\n",
    "        self.arr=arr\n",
    "        self.counter=0\n",
    "        self.index=0\n",
    "        \n",
    "    def __next__(self):\n",
    "        if self.index<len(self.arr):\n",
    "            if self.counter+1<self.arr[int(self.index)][1]:\n",
    "                self.counter+=1\n",
    "                return self.arr[self.index][0]\n",
    "            else:\n",
    "                self.counter=0\n",
    "                self.index+=1\n",
    "                return self.arr[self.index-1][0]\n",
    "        else:\n",
    "            raise StopIteration()\n",
    "       \n",
    "        \n",
    "    \n",
    "original=[1,1,1,1,2,2,1,1,1,3,3,3,3]\n",
    "compressed=CompressedList([(1,4),(2,2),(1,3),(3,4)])\n",
    "type(compressed)\n",
    "decompressed=[x for x in compressed]\n",
    "print(original==decompressed)"
   ]
  }
 ],
 "metadata": {
  "kernelspec": {
   "display_name": "Python 3",
   "language": "python",
   "name": "python3"
  },
  "language_info": {
   "codemirror_mode": {
    "name": "ipython",
    "version": 3
   },
   "file_extension": ".py",
   "mimetype": "text/x-python",
   "name": "python",
   "nbconvert_exporter": "python",
   "pygments_lexer": "ipython3",
   "version": "3.8.5"
  }
 },
 "nbformat": 4,
 "nbformat_minor": 4
}
