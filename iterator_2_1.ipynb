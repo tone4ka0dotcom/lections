{
 "cells": [
  {
   "cell_type": "code",
   "execution_count": 1,
   "metadata": {},
   "outputs": [
    {
     "name": "stdout",
     "output_type": "stream",
     "text": [
      "0: a\n",
      "1: b\n",
      "2: c\n"
     ]
    }
   ],
   "source": [
    "for index, letter in enumerate('abc'):\n",
    "    print(f'{index}: {letter}')"
   ]
  },
  {
   "cell_type": "code",
   "execution_count": 7,
   "metadata": {},
   "outputs": [
    {
     "name": "stdout",
     "output_type": "stream",
     "text": [
      "(0, 'a')\n",
      "(1, 'b')\n",
      "(2, 'c')\n"
     ]
    }
   ],
   "source": [
    "class Myenumerate_1:\n",
    "    def __init__(self, arr):\n",
    "        self.index=-1\n",
    "        self.arr=arr\n",
    "    \n",
    "    def __iter__(self):\n",
    "        return self\n",
    "    \n",
    "    def __next__(self):\n",
    "        if self.index>=len(self.arr)-1:\n",
    "            raise StopIteration()\n",
    "        self.index+=1\n",
    "        return (self.index, self.arr[self.index])\n",
    "    \n",
    "a = Myenumerate_1(\"abc\")\n",
    "for _ in a:\n",
    "    print(_)"
   ]
  },
  {
   "cell_type": "code",
   "execution_count": 8,
   "metadata": {},
   "outputs": [
    {
     "name": "stdout",
     "output_type": "stream",
     "text": [
      "(0, 'a')\n",
      "(1, 'b')\n",
      "(2, 'c')\n"
     ]
    }
   ],
   "source": [
    "class Myenumerate_2:\n",
    "    def __init__(self, arr):\n",
    "        self.arr=arr\n",
    "\n",
    "    def __iter__(self):\n",
    "        return Myenumerate_2_1(self.arr)\n",
    "    \n",
    "class Myenumerate_2_1:\n",
    "    def __init__(self, arr):\n",
    "        self.index=-1\n",
    "        self.arr=arr\n",
    "    \n",
    "    def __iter__(self):\n",
    "        return self\n",
    "    \n",
    "    def __next__(self):\n",
    "        if self.index>=len(self.arr) - 1:\n",
    "            raise StopIteration()\n",
    "        self.index += 1\n",
    "        return (self.index, self.arr[self.index])\n",
    "\n",
    "b = Myenumerate_2(\"abc\")\n",
    "for i in b:\n",
    "    print(i)"
   ]
  }
 ],
 "metadata": {
  "kernelspec": {
   "display_name": "Python 3",
   "language": "python",
   "name": "python3"
  },
  "language_info": {
   "codemirror_mode": {
    "name": "ipython",
    "version": 3
   },
   "file_extension": ".py",
   "mimetype": "text/x-python",
   "name": "python",
   "nbconvert_exporter": "python",
   "pygments_lexer": "ipython3",
   "version": "3.8.5"
  }
 },
 "nbformat": 4,
 "nbformat_minor": 4
}
