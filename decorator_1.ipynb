{
 "cells": [
  {
   "cell_type": "code",
   "execution_count": 10,
   "metadata": {},
   "outputs": [
    {
     "name": "stdout",
     "output_type": "stream",
     "text": [
      "вы вызвали функцию function((4, 4, 4))\n",
      "она вернула значение 6\n"
     ]
    },
    {
     "data": {
      "text/plain": [
       "6"
      ]
     },
     "execution_count": 10,
     "metadata": {},
     "output_type": "execute_result"
    }
   ],
   "source": [
    "def log(func):\n",
    "    def wrapper(*args):\n",
    "        print(f'вы вызвали функцию {func.__name__}({args})' )\n",
    "        origin_value = func(*args)\n",
    "        print(f'она вернула значение {origin_value}')\n",
    "        return origin_value\n",
    "    return wrapper\n",
    "\n",
    "@log\n",
    "def function(*args):\n",
    "    return 3 + len(args)\n",
    "function(4, 4, 4)"
   ]
  }
 ],
 "metadata": {
  "kernelspec": {
   "display_name": "Python 3",
   "language": "python",
   "name": "python3"
  },
  "language_info": {
   "codemirror_mode": {
    "name": "ipython",
    "version": 3
   },
   "file_extension": ".py",
   "mimetype": "text/x-python",
   "name": "python",
   "nbconvert_exporter": "python",
   "pygments_lexer": "ipython3",
   "version": "3.8.5"
  }
 },
 "nbformat": 4,
 "nbformat_minor": 4
}
